{
 "cells": [
  {
   "cell_type": "code",
   "execution_count": 1,
   "metadata": {},
   "outputs": [],
   "source": [
    "import wave"
   ]
  },
  {
   "cell_type": "code",
   "execution_count": 3,
   "metadata": {},
   "outputs": [],
   "source": [
    "with wave.open(\"text.mp3\", \"rb\") as audio_file:\n",
    "    # Get the audio file's parameters\n",
    "    audio_params = audio_file.getparams()\n",
    "\n",
    "    # Open a new wave file for writing\n",
    "    with wave.open(\"output_wave_file.wav\", \"wb\") as wave_file:\n",
    "        # Set the wave file's parameters to match the audio file's parameters\n",
    "        wave_file.setparams(audio_params)\n",
    "\n",
    "        # Read the audio data from the audio file and write it to the wave file\n",
    "        audio_data = audio_file.readframes(audio_params[3])\n",
    "        wave_file.writeframes(audio_data)\n",
    "\n",
    "    # Close both files\n",
    "    audio_file.close()\n",
    "    wave_file.close()"
   ]
  },
  {
   "cell_type": "code",
   "execution_count": null,
   "metadata": {},
   "outputs": [],
   "source": []
  }
 ],
 "metadata": {
  "kernelspec": {
   "display_name": "Python 3",
   "language": "python",
   "name": "python3"
  },
  "language_info": {
   "codemirror_mode": {
    "name": "ipython",
    "version": 3
   },
   "file_extension": ".py",
   "mimetype": "text/x-python",
   "name": "python",
   "nbconvert_exporter": "python",
   "pygments_lexer": "ipython3",
   "version": "3.10.1"
  },
  "orig_nbformat": 4
 },
 "nbformat": 4,
 "nbformat_minor": 2
}
